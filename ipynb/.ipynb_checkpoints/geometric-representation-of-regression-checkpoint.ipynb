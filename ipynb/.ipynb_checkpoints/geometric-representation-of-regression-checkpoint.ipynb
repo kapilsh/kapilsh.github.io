{
 "cells": [
  {
   "cell_type": "markdown",
   "metadata": {},
   "source": [
    "# Geometric Representation of Regression"
   ]
  },
  {
   "cell_type": "markdown",
   "metadata": {},
   "source": [
    "A picture is worth a thousand words. [This post](http://stats.stackexchange.com/questions/123651/geometric-interpretation-of-multiple-correlation-coefficient-r-and-coefficient) on Stack Exchange gives a great description of the graphic and geometric representation of [Lineat Regression](https://en.wikipedia.org/wiki/Linear_regression) problems. \n",
    "\n",
    "The below graphic captures the essense of Linear Regression very aptly. "
   ]
  },
  {
   "cell_type": "markdown",
   "metadata": {
    "collapsed": false
   },
   "source": [
    "![Regression Picture](./regression.png)"
   ]
  },
  {
   "cell_type": "markdown",
   "metadata": {},
   "source": [
    "Source: [Stack Exchange](http://stats.stackexchange.com/questions/123651/geometric-interpretation-of-multiple-correlation-coefficient-r-and-coefficient)"
   ]
  },
  {
   "cell_type": "markdown",
   "metadata": {},
   "source": [
    "Let's see this in action using some simple $\\mathbf{X}$ and $y$ examples."
   ]
  },
  {
   "cell_type": "code",
   "execution_count": 1,
   "metadata": {
    "collapsed": true
   },
   "outputs": [],
   "source": [
    "import numpy as np\n",
    "import matplotlib.pyplot as plt\n",
    "import sympy as sp\n",
    "\n",
    "%matplotlib inline\n",
    "sp.init_printing(use_unicode=True)\n",
    "plt.style.use(\"ggplot\")"
   ]
  },
  {
   "cell_type": "code",
   "execution_count": 2,
   "metadata": {
    "collapsed": true
   },
   "outputs": [],
   "source": [
    "x = np.array([1.0, 2, 3])\n",
    "y = np.array([2, 2.5, 5])"
   ]
  },
  {
   "cell_type": "code",
   "execution_count": 3,
   "metadata": {
    "collapsed": false
   },
   "outputs": [
    {
     "data": {
      "image/png": "[encoded data removed]",
      "text/latex": [
       "$$\\left[\\begin{matrix}2.0\\\\2.5\\\\5.0\\end{matrix}\\right]$$"
      ],
      "text/plain": [
       "⎡2.0⎤\n",
       "⎢   ⎥\n",
       "⎢2.5⎥\n",
       "⎢   ⎥\n",
       "⎣5.0⎦"
      ]
     },
     "execution_count": 3,
     "metadata": {},
     "output_type": "execute_result"
    }
   ],
   "source": [
    "Y = sp.Matrix(y)\n",
    "Y"
   ]
  },
  {
   "cell_type": "code",
   "execution_count": 4,
   "metadata": {
    "collapsed": false
   },
   "outputs": [
    {
     "data": {
      "image/png": "[encoded data removed]",
      "text/latex": [
       "$$\\left[\\begin{matrix}1.0 & 1.0\\\\1.0 & 2.0\\\\1.0 & 3.0\\end{matrix}\\right]$$"
      ],
      "text/plain": [
       "⎡1.0  1.0⎤\n",
       "⎢        ⎥\n",
       "⎢1.0  2.0⎥\n",
       "⎢        ⎥\n",
       "⎣1.0  3.0⎦"
      ]
     },
     "execution_count": 4,
     "metadata": {},
     "output_type": "execute_result"
    }
   ],
   "source": [
    "X = sp.Matrix(np.transpose([np.ones(len(x)), x]))\n",
    "X"
   ]
  },
  {
   "cell_type": "code",
   "execution_count": 5,
   "metadata": {
    "collapsed": false
   },
   "outputs": [
    {
     "data": {
      "image/png": "[encoded data removed]",
      "text/plain": [
       "<matplotlib.figure.Figure at 0x115da0810>"
      ]
     },
     "metadata": {},
     "output_type": "display_data"
    }
   ],
   "source": [
    "fig = plt.figure()\n",
    "plt.scatter(X.col(1), y)\n",
    "plt.xlim((0, 5))\n",
    "plt.ylim((0, 6))\n",
    "plt.title(\"Y vs X\")\n",
    "plt.xlabel(\"X\")\n",
    "plt.ylabel(\"Y\")\n",
    "plt.gcf().set_size_inches(10, 5)\n",
    "plt.show()"
   ]
  },
  {
   "cell_type": "markdown",
   "metadata": {},
   "source": [
    "## Regression Coefficients"
   ]
  },
  {
   "cell_type": "markdown",
   "metadata": {},
   "source": [
    "Linear regression coefficients $\\beta$ are given by:\n",
    "\n",
    "\\begin{equation}\n",
    "\\beta = (\\mathbf{X^\\intercal} \\mathbf{X})^{-1} \\mathbf{X^\\intercal} y\n",
    "\\end{equation}\n",
    "\n",
    "The geometrical meaning of the regression fit is the projection of $y$ on $\\mathbf{span(1, X)}$. Regression coefficients represents the factors that make a linear combination of $\\mathbb{1}$ and $\\mathbf{X}$.\n",
    "\n",
    "Let's calculate $\\mathbf{\\beta}$ for $\\mathbf{X}$ and $y$ we defined above."
   ]
  },
  {
   "cell_type": "code",
   "execution_count": 6,
   "metadata": {
    "collapsed": false
   },
   "outputs": [
    {
     "data": {
      "image/png": "[encoded data removed]",
      "text/latex": [
       "$$\\left[\\begin{matrix}0.166666666666668\\\\1.5\\end{matrix}\\right]$$"
      ],
      "text/plain": [
       "⎡0.166666666666668⎤\n",
       "⎢                 ⎥\n",
       "⎣       1.5       ⎦"
      ]
     },
     "execution_count": 6,
     "metadata": {},
     "output_type": "execute_result"
    }
   ],
   "source": [
    "beta = ((X.transpose() * X) ** -1) * X.transpose() * y\n",
    "beta"
   ]
  },
  {
   "cell_type": "markdown",
   "metadata": {},
   "source": [
    "Since we now have $\\beta$, we can calculate the estimated $y$ or $\\hat y$. \n",
    "\n",
    "\\begin{equation}\n",
    "\\hat y = \\mathbf{X} \\beta = \\mathbf{X} (\\mathbf{X^\\intercal} \\mathbf{X})^{-1} \\mathbf{X^\\intercal} y\n",
    "\\end{equation}"
   ]
  },
  {
   "cell_type": "code",
   "execution_count": 7,
   "metadata": {
    "collapsed": false
   },
   "outputs": [
    {
     "data": {
      "image/png": "[encoded data removed]",
      "text/latex": [
       "$$\\left[\\begin{matrix}1.66666666666667\\\\3.16666666666667\\\\4.66666666666667\\end{matrix}\\right]$$"
      ],
      "text/plain": [
       "⎡1.66666666666667⎤\n",
       "⎢                ⎥\n",
       "⎢3.16666666666667⎥\n",
       "⎢                ⎥\n",
       "⎣4.66666666666667⎦"
      ]
     },
     "execution_count": 7,
     "metadata": {},
     "output_type": "execute_result"
    }
   ],
   "source": [
    "y_hat = X * beta\n",
    "y_hat"
   ]
  },
  {
   "cell_type": "code",
   "execution_count": 8,
   "metadata": {
    "collapsed": false
   },
   "outputs": [
    {
     "data": {
      "image/png": "[encoded data removed]",
      "text/plain": [
       "<matplotlib.figure.Figure at 0x1160ef210>"
      ]
     },
     "metadata": {},
     "output_type": "display_data"
    }
   ],
   "source": [
    "fig = plt.figure()\n",
    "plt.scatter(x, y)\n",
    "plt.xlim((0, 5))\n",
    "plt.ylim((0, 6))\n",
    "plt.title(\"Y vs X | Regression Fit\")\n",
    "plt.xlabel(\"X\")\n",
    "plt.ylabel(\"Y\")\n",
    "plt.plot(X.col(1), y_hat, color='blue')\n",
    "plt.gcf().set_size_inches(10, 5)\n",
    "plt.show()"
   ]
  },
  {
   "cell_type": "markdown",
   "metadata": {},
   "source": [
    "## Error Analysis"
   ]
  },
  {
   "cell_type": "markdown",
   "metadata": {},
   "source": [
    "Residuals for the model are given by: $\\hat y$ - $y$. This represents the error in predicted values of y using both $\\mathbb{1}$ and $\\mathbf{X}$ in the model. The error vector is normal to the $\\mathbf{span(1, X)}$ since it represents the component of $y$ that is not in $\\mathbf{span(1, X)}$."
   ]
  },
  {
   "cell_type": "code",
   "execution_count": 9,
   "metadata": {
    "collapsed": false
   },
   "outputs": [
    {
     "data": {
      "image/png": "[encoded data removed]",
      "text/latex": [
       "$$\\left[\\begin{matrix}0.333333333333332\\\\-0.666666666666668\\\\0.333333333333332\\end{matrix}\\right]$$"
      ],
      "text/plain": [
       "⎡0.333333333333332 ⎤\n",
       "⎢                  ⎥\n",
       "⎢-0.666666666666668⎥\n",
       "⎢                  ⎥\n",
       "⎣0.333333333333332 ⎦"
      ]
     },
     "execution_count": 9,
     "metadata": {},
     "output_type": "execute_result"
    }
   ],
   "source": [
    "res = y - y_hat\n",
    "res"
   ]
  },
  {
   "cell_type": "markdown",
   "metadata": {},
   "source": [
    "Average vector or $\\bar y$ is geometrically the projection of $y$ on just the $\\mathbb{1}$ vector. "
   ]
  },
  {
   "cell_type": "code",
   "execution_count": 10,
   "metadata": {
    "collapsed": false
   },
   "outputs": [
    {
     "data": {
      "image/png": "[encoded data removed]",
      "text/latex": [
       "$$\\left[\\begin{matrix}3.16666666666667\\\\3.16666666666667\\\\3.16666666666667\\end{matrix}\\right]$$"
      ],
      "text/plain": [
       "⎡3.16666666666667⎤\n",
       "⎢                ⎥\n",
       "⎢3.16666666666667⎥\n",
       "⎢                ⎥\n",
       "⎣3.16666666666667⎦"
      ]
     },
     "execution_count": 10,
     "metadata": {},
     "output_type": "execute_result"
    }
   ],
   "source": [
    "y_bar = np.mean(y) * sp.Matrix(np.ones(len(y)))\n",
    "y_bar"
   ]
  },
  {
   "cell_type": "markdown",
   "metadata": {},
   "source": [
    "We can calculate the error in the average model or where we represent the predicted values as the average vector $\\bar y$, error in the model is given by $\\kappa$ = $\\bar y$ - $y$"
   ]
  },
  {
   "cell_type": "code",
   "execution_count": 11,
   "metadata": {
    "collapsed": false
   },
   "outputs": [
    {
     "data": {
      "image/png": "[encoded data removed]",
      "text/latex": [
       "$$\\left[\\begin{matrix}1.16666666666667\\\\0.666666666666667\\\\-1.83333333333333\\end{matrix}\\right]$$"
      ],
      "text/plain": [
       "⎡1.16666666666667 ⎤\n",
       "⎢                 ⎥\n",
       "⎢0.666666666666667⎥\n",
       "⎢                 ⎥\n",
       "⎣-1.83333333333333⎦"
      ]
     },
     "execution_count": 11,
     "metadata": {},
     "output_type": "execute_result"
    }
   ],
   "source": [
    "kappa = y_bar - y\n",
    "kappa"
   ]
  },
  {
   "cell_type": "markdown",
   "metadata": {},
   "source": [
    "Both $\\bar y$ and $\\hat y$ are predictors for $y$ and it is reasonable to calculate how much error we reduce by adding $\\mathbf{X}$ to the model. Let's call the error $\\eta$  "
   ]
  },
  {
   "cell_type": "code",
   "execution_count": 12,
   "metadata": {
    "collapsed": false
   },
   "outputs": [
    {
     "data": {
      "image/png": "[encoded data removed]",
      "text/latex": [
       "$$\\left[\\begin{matrix}-1.5\\\\1.77635683940025 \\cdot 10^{-15}\\\\1.5\\end{matrix}\\right]$$"
      ],
      "text/plain": [
       "⎡        -1.5        ⎤\n",
       "⎢                    ⎥\n",
       "⎢1.77635683940025e-15⎥\n",
       "⎢                    ⎥\n",
       "⎣        1.5         ⎦"
      ]
     },
     "execution_count": 12,
     "metadata": {},
     "output_type": "execute_result"
    }
   ],
   "source": [
    "eta = y_hat - y_bar\n",
    "eta"
   ]
  },
  {
   "cell_type": "markdown",
   "metadata": {},
   "source": [
    "Now from here we can prove whether $\\eta$ and $\\epsilon$ are perpendicular to each other. We can check it by calculating their dot product."
   ]
  },
  {
   "cell_type": "code",
   "execution_count": 13,
   "metadata": {
    "collapsed": false
   },
   "outputs": [
    {
     "data": {
      "image/png": "[encoded data removed]",
      "text/latex": [
       "$$\\left[\\begin{matrix}5.55111512312578 \\cdot 10^{-16}\\end{matrix}\\right]$$"
      ],
      "text/plain": [
       "[5.55111512312578e-16]"
      ]
     },
     "execution_count": 13,
     "metadata": {},
     "output_type": "execute_result"
    }
   ],
   "source": [
    "dot_product = eta.transpose() * res\n",
    "dot_product"
   ]
  },
  {
   "cell_type": "markdown",
   "metadata": {},
   "source": [
    "**Hence, we can see that $\\eta$ and $\\epsilon$ are normal to each other**"
   ]
  },
  {
   "cell_type": "markdown",
   "metadata": {},
   "source": [
    "Hence, we see that dot product between residual $\\epsilon$ and $\\hat y - \\bar y$ equals $0$"
   ]
  },
  {
   "cell_type": "markdown",
   "metadata": {},
   "source": [
    "From here we can also prove the relationship between Total Sum of Squares (SST), Sum of Squares due to Squares of\n",
    "Regression (SSR) and error/residuals (SSE)\n",
    "\n",
    "\n",
    "$\\mathbf{SST} = \\mathbf{SSR} + \\mathbf{SSE}$"
   ]
  },
  {
   "cell_type": "markdown",
   "metadata": {},
   "source": [
    "We can use [Pythagorean Theorem](Pythagorean theorem) to check the above relationship."
   ]
  },
  {
   "cell_type": "code",
   "execution_count": 14,
   "metadata": {
    "collapsed": false
   },
   "outputs": [
    {
     "data": {
      "image/png": "[encoded data removed]",
      "text/latex": [
       "$$1.66533453693773 \\cdot 10^{-15}$$"
      ],
      "text/plain": [
       "1.66533453693773e-15"
      ]
     },
     "execution_count": 14,
     "metadata": {},
     "output_type": "execute_result"
    }
   ],
   "source": [
    "kappa.norm() ** 2  - eta.norm() ** 2 - res.norm() ** 2"
   ]
  },
  {
   "cell_type": "markdown",
   "metadata": {},
   "source": [
    "## Summary\n",
    "\n",
    "Through this post, I wanted to demonstrate how we can interpret linear/multiple regression geometrically. Also, I   solved a linear regression model directly using Linear Algebra. "
   ]
  }
 ],
 "metadata": {
  "kernelspec": {
   "display_name": "Python [Root]",
   "language": "python",
   "name": "Python [Root]"
  },
  "language_info": {
   "codemirror_mode": {
    "name": "ipython",
    "version": 2
   },
   "file_extension": ".py",
   "mimetype": "text/x-python",
   "name": "python",
   "nbconvert_exporter": "python",
   "pygments_lexer": "ipython2",
   "version": "2.7.13"
  }
 },
 "nbformat": 4,
 "nbformat_minor": 2
}
